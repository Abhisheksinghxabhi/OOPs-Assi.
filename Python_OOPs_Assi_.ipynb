{
  "nbformat": 4,
  "nbformat_minor": 0,
  "metadata": {
    "colab": {
      "provenance": []
    },
    "kernelspec": {
      "name": "python3",
      "display_name": "Python 3"
    },
    "language_info": {
      "name": "python"
    }
  },
  "cells": [
    {
      "cell_type": "code",
      "execution_count": null,
      "metadata": {
        "id": "rvxUOfth-ofh"
      },
      "outputs": [],
      "source": []
    },
    {
      "cell_type": "markdown",
      "source": [
        "1.What is Object-Oriented Programming (OOP)         \n",
        "   Ans.OOP is a programming paradigm based on the concept of \"objects\", which can contain data and code. It focuses on using classes and objects to model real-world entities and relationships, promoting reusability, scalability, and maintainability.\n",
        "\n"
      ],
      "metadata": {
        "id": "NLi5uc_y-1P3"
      }
    },
    {
      "cell_type": "markdown",
      "source": [
        "2.What is a class in OOP.   \n",
        "Ans.A class is a blueprint or template for creating objects. It defines attributes (variables) and methods (functions) that the created objects (instances) will have."
      ],
      "metadata": {
        "id": "5aKEmxP-_e0A"
      }
    },
    {
      "cell_type": "markdown",
      "source": [
        "3.What is an object in OOP.                                                     \n",
        "Ans.An object is an instance of a class. It holds actual values and can use the methods defined in its class.\n"
      ],
      "metadata": {
        "id": "nBvSDefb_qLf"
      }
    },
    {
      "cell_type": "markdown",
      "source": [
        "4.What is the difference between abstraction and encapsulation.                \n",
        "Ans.**Abstraction** hides the complex implementation details and shows only the necessary features while\n",
        "**Encapsulation** binds data and methods together and restricts direct access to some components.\n",
        "\n"
      ],
      "metadata": {
        "id": "cEwL34VkAArx"
      }
    },
    {
      "cell_type": "markdown",
      "source": [
        "5.What are dunder methods in Python.                                            \n",
        "Ans.Dunder (double underscore) methods are special methods in Python, like __init__, __str__, __len__, etc. They are used to define behavior for operators and built-in functions."
      ],
      "metadata": {
        "id": "mFU1r-PAAPw1"
      }
    },
    {
      "cell_type": "markdown",
      "source": [
        "6.Explain the concept of inheritance in OOP.                                  \n",
        "Ans.Inheritance allows a class (child/subclass) to acquire properties and methods from another class (parent/superclass). It promotes code reusability."
      ],
      "metadata": {
        "id": "VcYubxPpAlBx"
      }
    },
    {
      "cell_type": "markdown",
      "source": [
        "7.What is polymorphism in OOP.                                                  \n",
        "Ans. Polymorphism means the ability to use a single interface to represent different data types or methods. For example, different classes can have a method named draw() but with different implementations.\n",
        "\n"
      ],
      "metadata": {
        "id": "nO_-AhgfATtI"
      }
    },
    {
      "cell_type": "markdown",
      "source": [
        "8.How is encapsulation achieved in Python.                                      \n",
        "Ans.Encapsulation is achieved using private (_name) or strongly private (__name) attributes and providing access through methods like getters and setters.\n",
        "\n"
      ],
      "metadata": {
        "id": "X_U5zVtP_AUx"
      }
    },
    {
      "cell_type": "markdown",
      "source": [
        "9.What is a constructor in Python.                                              \n",
        "Ans.A constructor is a special method called __init__() that is automatically called when an object is created. It initializes the object’s attributes."
      ],
      "metadata": {
        "id": "as25_ef9BbNL"
      }
    },
    {
      "cell_type": "markdown",
      "source": [
        "10.What are class and static methods in Python.                  \n",
        "Ans.Class Method: Declared with @classmethod, it takes cls as the first parameter and can access or modify the class state.\n",
        "\n",
        "Static Method: Declared with @staticmethod, it doesn’t take self or cls and behaves like a regular function within a class.\n",
        "\n"
      ],
      "metadata": {
        "id": "XTZvFJNBBmx1"
      }
    },
    {
      "cell_type": "markdown",
      "source": [
        "11.What is method overloading in Python.                                        \n",
        "Ans.Python doesn’t support traditional method overloading. However, it can be mimicked by using default arguments or variable arguments (*args, **kwargs).\n",
        "\n"
      ],
      "metadata": {
        "id": "1Z8QH69gB3iQ"
      }
    },
    {
      "cell_type": "markdown",
      "source": [
        "12.What is method overriding in OOP.                                            \n",
        "Ans.When a subclass provides a specific implementation of a method that is already defined in its superclass, it’s called method overriding.\n",
        "\n"
      ],
      "metadata": {
        "id": "TjAPzlI4CAc2"
      }
    },
    {
      "cell_type": "markdown",
      "source": [
        "13.What is a property decorator in Python.                                      \n",
        "Ans.A property decorator is used to make a method behave like an attribute. It allows you to access methods like attributes, usually used for getters/setters."
      ],
      "metadata": {
        "id": "pt7C9seFCI1J"
      }
    },
    {
      "cell_type": "markdown",
      "source": [
        "14.Why is polymorphism important in OOP.                                        \n",
        "Ans. Polymorphism allows functions and methods to use objects of different classes interchangeably, improving flexibility and reusability of code."
      ],
      "metadata": {
        "id": "R46n6u4lCWoq"
      }
    },
    {
      "cell_type": "markdown",
      "source": [
        "15.What is an abstract class in Python.                                         \n",
        "Ans.An abstract class is a class that cannot be instantiated and may contain abstract methods (methods without implementation). It is defined using the abc module with the abstractmethod decorator.\n",
        "\n"
      ],
      "metadata": {
        "id": "UriAAS18CkhA"
      }
    },
    {
      "cell_type": "markdown",
      "source": [
        "16.What are the advantages of OOP.                                              \n",
        "Ans.Code reusability (via inheritance)                                          \n",
        ".Improved maintainability and scalability                                       \n",
        ".Data security (via encapsulation)                                              \n",
        ".Real-world modeling                                                            \n",
        ".Easier debugging and understanding\n",
        "\n",
        "\n"
      ],
      "metadata": {
        "id": "-gu6EVtcCwE5"
      }
    },
    {
      "cell_type": "markdown",
      "source": [
        "17.What is the difference between a class variable and an instance variable.    \n",
        "Ans.Class variable: Shared across all instances of the class. Defined within the class but outside methods while\n",
        "Instance variable: Unique to each object. Defined inside methods using self.variable_name.\n",
        "\n"
      ],
      "metadata": {
        "id": "1p9PgfdcDMkC"
      }
    },
    {
      "cell_type": "markdown",
      "source": [
        "18.What is multiple inheritance in Python.                                      \n",
        "Ans.Multiple inheritance allows a class to inherit from more than one parent class."
      ],
      "metadata": {
        "id": "_uowYqP4DZxb"
      }
    },
    {
      "cell_type": "markdown",
      "source": [
        "19.Explain the purpose of ‘’__str__’ and ‘__repr__’ ‘ methods in Python.        \n",
        "Ans.__str__: Used to return a user-friendly string representation of an object (used with print).                                                              \n",
        "__repr__: Used to return an unambiguous string for debugging and development (used in the console)."
      ],
      "metadata": {
        "id": "_a1n5AhNDmnR"
      }
    },
    {
      "cell_type": "markdown",
      "source": [
        "20.What is the significance of the ‘super()’ function in Python.                \n",
        "Ans.super() is used to call methods of a parent or sibling class. Commonly used in constructors during inheritance to initialize the superclass.\n"
      ],
      "metadata": {
        "id": "bFnXQjXyDysJ"
      }
    },
    {
      "cell_type": "markdown",
      "source": [
        "21.What is the significance of the __del__ method in Python.                    \n",
        "Ans.__del__() is a destructor method called when an object is about to be destroyed (i.e., when it’s garbage collected). It’s used to clean up resources."
      ],
      "metadata": {
        "id": "0UuPbCUdD7Wc"
      }
    },
    {
      "cell_type": "markdown",
      "source": [
        "24.What is method chaining in Python OOP.                                       \n",
        "Ans.Method chaining is when multiple methods are called on the same object in a single line. It works by returning self from each method."
      ],
      "metadata": {
        "id": "r7Gu09RhEEHZ"
      }
    },
    {
      "cell_type": "markdown",
      "source": [
        "25.What is the purpose of the __call__ method in Python.                        \n",
        "Ans.The __call__() method allows an object to be called like a function."
      ],
      "metadata": {
        "id": "ARGIVEevEMhG"
      }
    },
    {
      "cell_type": "markdown",
      "source": [
        "**PRACTICLE QUESTIONS**"
      ],
      "metadata": {
        "id": "lDeGqQ9VEXDz"
      }
    },
    {
      "cell_type": "markdown",
      "source": [
        "1.Create a parent class Animal with a method speak() that prints a generic message. Create a child class Dog\n",
        "that overrides the speak() method to print \"Bark!"
      ],
      "metadata": {
        "id": "XaDj575WEbao"
      }
    },
    {
      "cell_type": "code",
      "source": [
        "class Animal:\n",
        "    def speak(self):\n",
        "        print(\"Some generic animal sound.\")\n",
        "\n",
        "class Dog(Animal):\n",
        "    def speak(self):\n",
        "        print(\"Bark!\")"
      ],
      "metadata": {
        "id": "l_Z_Vd0DEpjo"
      },
      "execution_count": 1,
      "outputs": []
    },
    {
      "cell_type": "code",
      "source": [
        "dog = Dog()\n",
        "dog.speak()"
      ],
      "metadata": {
        "colab": {
          "base_uri": "https://localhost:8080/"
        },
        "id": "pCJPPLLiE2fR",
        "outputId": "c2ee457f-7646-490f-8e0a-65089df4527d"
      },
      "execution_count": 2,
      "outputs": [
        {
          "output_type": "stream",
          "name": "stdout",
          "text": [
            "Bark!\n"
          ]
        }
      ]
    },
    {
      "cell_type": "markdown",
      "source": [
        "2. Write a program to create an abstract class Shape with a method area(). Derive classes Circle and Rectangle\n",
        "from it and implement the area() method in both."
      ],
      "metadata": {
        "id": "cxCJxoL2E-gw"
      }
    },
    {
      "cell_type": "code",
      "source": [
        "from abc import ABC, abstractmethod\n",
        "\n",
        "class Shape(ABC):\n",
        "    @abstractmethod\n",
        "    def area(self):\n",
        "        pass\n",
        "\n",
        "class Circle(Shape):\n",
        "    def __init__(self, radius):\n",
        "        self.radius = radius\n",
        "\n",
        "    def area(self):\n",
        "        return 3.14 * self.radius ** 2\n",
        "\n",
        "class Rectangle(Shape):\n",
        "    def __init__(self, length, width):\n",
        "        self.length = length\n",
        "        self.width = width\n",
        "\n",
        "    def area(self):\n",
        "        return self.length * self.width\n",
        "\n",
        "c = Circle(5)\n",
        "r = Rectangle(4, 6)\n",
        "print(c.area())\n",
        "print(r.area())\n"
      ],
      "metadata": {
        "colab": {
          "base_uri": "https://localhost:8080/"
        },
        "id": "s-DdFL5EFA5V",
        "outputId": "91e046c0-02d5-4a89-89af-69dcc9ddf3b5"
      },
      "execution_count": 3,
      "outputs": [
        {
          "output_type": "stream",
          "name": "stdout",
          "text": [
            "78.5\n",
            "24\n"
          ]
        }
      ]
    },
    {
      "cell_type": "markdown",
      "source": [
        "3.Implement a multi-level inheritance scenario where a class Vehicle has an attribute type. Derive a class Car\n",
        "and further derive a class ElectricCar that adds a battery attribute."
      ],
      "metadata": {
        "id": "DYy3SF3bFOUl"
      }
    },
    {
      "cell_type": "code",
      "source": [
        "class Vehicle:\n",
        "    def __init__(self, type):\n",
        "        self.type = type\n",
        "\n",
        "class Car(Vehicle):\n",
        "    def __init__(self, type, brand):\n",
        "        super().__init__(type)\n",
        "        self.brand = brand\n",
        "\n",
        "class ElectricCar(Car):\n",
        "    def __init__(self, type, brand, battery):\n",
        "        super().__init__(type, brand)\n",
        "        self.battery = battery\n",
        "\n",
        "e = ElectricCar(\"Electric\", \"Tesla\", \"75kWh\")\n",
        "print(e.type, e.brand, e.battery)\n"
      ],
      "metadata": {
        "colab": {
          "base_uri": "https://localhost:8080/"
        },
        "id": "_jrmDiSgFVui",
        "outputId": "c9fbc218-305c-454c-ba38-7e29431e030f"
      },
      "execution_count": 4,
      "outputs": [
        {
          "output_type": "stream",
          "name": "stdout",
          "text": [
            "Electric Tesla 75kWh\n"
          ]
        }
      ]
    },
    {
      "cell_type": "markdown",
      "source": [
        "5. Write a program to demonstrate encapsulation by creating a class BankAccount with private attributes\n",
        "balance and methods to deposit, withdraw, and check balance"
      ],
      "metadata": {
        "id": "q1khNpbjFpUs"
      }
    },
    {
      "cell_type": "code",
      "source": [
        "class BankAccount:\n",
        "    def __init__(self):\n",
        "        self.__balance = 0\n",
        "\n",
        "    def deposit(self, amount):\n",
        "        self.__balance += amount\n",
        "\n",
        "    def withdraw(self, amount):\n",
        "        if amount <= self.__balance:\n",
        "            self.__balance -= amount\n",
        "\n",
        "    def check_balance(self):\n",
        "        return self.__balance\n",
        "\n",
        "acc = BankAccount()\n",
        "acc.deposit(10000)\n",
        "acc.withdraw(3000)\n",
        "print(acc.check_balance())"
      ],
      "metadata": {
        "colab": {
          "base_uri": "https://localhost:8080/"
        },
        "id": "F8MNqFtqFrm8",
        "outputId": "d779a064-3293-49a1-eda4-9f10f1519bb7"
      },
      "execution_count": 6,
      "outputs": [
        {
          "output_type": "stream",
          "name": "stdout",
          "text": [
            "7000\n"
          ]
        }
      ]
    },
    {
      "cell_type": "code",
      "source": [
        "acc.deposit(10000)#again deposit 100000"
      ],
      "metadata": {
        "id": "HtnPrE5hF3on"
      },
      "execution_count": 8,
      "outputs": []
    },
    {
      "cell_type": "code",
      "source": [
        "print(acc.check_balance())#new total balance"
      ],
      "metadata": {
        "colab": {
          "base_uri": "https://localhost:8080/"
        },
        "id": "lIc01ZBlF_QE",
        "outputId": "508372f0-8ca0-43eb-dfc8-6fa90d757bc0"
      },
      "execution_count": 10,
      "outputs": [
        {
          "output_type": "stream",
          "name": "stdout",
          "text": [
            "17000\n"
          ]
        }
      ]
    },
    {
      "cell_type": "markdown",
      "source": [
        "7. Create a class MathOperations with a class method add_numbers() to add two numbers and a static\n",
        "method subtract_numbers() to subtract two numbers."
      ],
      "metadata": {
        "id": "bk8UlhkkGQWr"
      }
    },
    {
      "cell_type": "code",
      "source": [
        "class MathOperations:\n",
        "    @classmethod\n",
        "    def add_numbers(cls, a, b):\n",
        "        return a + b\n",
        "\n",
        "    @staticmethod\n",
        "    def subtract_numbers(a, b):\n",
        "        return a - b\n",
        "\n",
        "print(MathOperations.add_numbers(5, 3))\n",
        "print(MathOperations.subtract_numbers(10, 4))\n"
      ],
      "metadata": {
        "colab": {
          "base_uri": "https://localhost:8080/"
        },
        "id": "knuZa6b1F_Uy",
        "outputId": "14851967-1a12-47b9-99b1-155443124b49"
      },
      "execution_count": 11,
      "outputs": [
        {
          "output_type": "stream",
          "name": "stdout",
          "text": [
            "8\n",
            "6\n"
          ]
        }
      ]
    },
    {
      "cell_type": "markdown",
      "source": [
        "8.Implement a class Person with a class method to count the total number of persons created."
      ],
      "metadata": {
        "id": "HdQNodPiGexV"
      }
    },
    {
      "cell_type": "code",
      "source": [
        "class Person:\n",
        "    count = 0\n",
        "\n",
        "    def __init__(self):\n",
        "        Person.count += 1\n",
        "\n",
        "    @classmethod\n",
        "    def total_persons(cls):\n",
        "        return cls.count\n",
        "\n",
        "p1 = Person()\n",
        "p2 = Person()\n",
        "print(Person.total_persons())\n"
      ],
      "metadata": {
        "colab": {
          "base_uri": "https://localhost:8080/"
        },
        "id": "fYhoMEyMGgVp",
        "outputId": "c413b9a1-c383-48d7-9dc6-cf503b9ee5f6"
      },
      "execution_count": 14,
      "outputs": [
        {
          "output_type": "stream",
          "name": "stdout",
          "text": [
            "2\n"
          ]
        }
      ]
    },
    {
      "cell_type": "markdown",
      "source": [
        "9.Write a class Fraction with attributes numerator and denominator. Override the str method to display the\n",
        "fraction as \"numerator/denominator\"."
      ],
      "metadata": {
        "id": "zpG4AQOfGuWe"
      }
    },
    {
      "cell_type": "code",
      "source": [
        "class Fraction:\n",
        "    def __init__(self, numerator, denominator):\n",
        "        self.numerator = numerator\n",
        "        self.denominator = denominator\n",
        "\n",
        "    def __str__(self):\n",
        "        return f\"{self.numerator}/{self.denominator}\"\n",
        "\n",
        "f = Fraction(3, 4)\n",
        "print(f)\n"
      ],
      "metadata": {
        "colab": {
          "base_uri": "https://localhost:8080/"
        },
        "id": "efN8gT2JGyHt",
        "outputId": "cb585cee-a2e7-49b8-86db-5ac74833589c"
      },
      "execution_count": 15,
      "outputs": [
        {
          "output_type": "stream",
          "name": "stdout",
          "text": [
            "3/4\n"
          ]
        }
      ]
    },
    {
      "cell_type": "markdown",
      "source": [
        "10. Demonstrate operator overloading by creating a class Vector and overriding the add method to add two\n",
        "vectors"
      ],
      "metadata": {
        "id": "FfQzSzvMG1-m"
      }
    },
    {
      "cell_type": "code",
      "source": [
        "class Vector:\n",
        "    def __init__(self, x, y):\n",
        "        self.x = x\n",
        "        self.y = y\n",
        "\n",
        "    def __add__(self, other):\n",
        "        return Vector(self.x + other.x, self.y + other.y)\n",
        "\n",
        "    def __str__(self):\n",
        "        return f\"Vector({self.x}, {self.y})\"\n",
        "\n",
        "v1 = Vector(2, 3)\n",
        "v2 = Vector(4, 5)\n",
        "v3 = v1 + v2\n",
        "print(v3)\n"
      ],
      "metadata": {
        "colab": {
          "base_uri": "https://localhost:8080/"
        },
        "id": "e-Th-kysG9s8",
        "outputId": "19bb983d-4561-4260-da19-3f3ea1843317"
      },
      "execution_count": 16,
      "outputs": [
        {
          "output_type": "stream",
          "name": "stdout",
          "text": [
            "Vector(6, 8)\n"
          ]
        }
      ]
    },
    {
      "cell_type": "markdown",
      "source": [
        "11.Create a class Person with attributes name and age. Add a method greet() that prints \"Hello, my name is\n",
        "{name} and I am {age} years old.\"\n",
        "\n",
        "\n"
      ],
      "metadata": {
        "id": "H2qx7Ce4HJi2"
      }
    },
    {
      "cell_type": "code",
      "source": [
        "class Person:\n",
        "    def __init__(self, name, age):\n",
        "        self.name = name\n",
        "        self.age = age\n",
        "\n",
        "    def greet(self):\n",
        "        print(f\"Hello, my name is {self.name} and I am {self.age} years old.\")\n",
        "\n",
        "p = Person(\"Abhishek Pratap Singh\", 24)\n",
        "p.greet()\n"
      ],
      "metadata": {
        "colab": {
          "base_uri": "https://localhost:8080/"
        },
        "id": "sphRhKuJHK_K",
        "outputId": "637b3e5e-d05f-41a8-8681-1714cedb9948"
      },
      "execution_count": 17,
      "outputs": [
        {
          "output_type": "stream",
          "name": "stdout",
          "text": [
            "Hello, my name is Abhishek Pratap Singh and I am 24 years old.\n"
          ]
        }
      ]
    },
    {
      "cell_type": "markdown",
      "source": [
        "12.Implement a class Student with attributes name and grades. Create a method average_grade() to compute\n",
        "the average of the grades"
      ],
      "metadata": {
        "id": "hEHx8WQKHcWk"
      }
    },
    {
      "cell_type": "code",
      "source": [
        "class Student:\n",
        "    def __init__(self, name, grades):\n",
        "        self.name = name\n",
        "        self.grades = grades\n",
        "\n",
        "    def average_grade(self):\n",
        "        return sum(self.grades) / len(self.grades)\n",
        "\n",
        "s = Student(\"Abhishek\", [85, 90, 78])\n",
        "print(s.average_grade())\n"
      ],
      "metadata": {
        "colab": {
          "base_uri": "https://localhost:8080/"
        },
        "id": "uK2gmwk5Hdhh",
        "outputId": "0252e1a1-056d-4618-dc5f-0e32456a8d3e"
      },
      "execution_count": 18,
      "outputs": [
        {
          "output_type": "stream",
          "name": "stdout",
          "text": [
            "84.33333333333333\n"
          ]
        }
      ]
    },
    {
      "cell_type": "markdown",
      "source": [
        "13. Create a class Rectangle with methods set_dimensions() to set the dimensions and area() to calculate the\n",
        "area"
      ],
      "metadata": {
        "id": "6jqhXONnHlUo"
      }
    },
    {
      "cell_type": "code",
      "source": [
        "class Rectangle:\n",
        "    def set_dimensions(self, length, width):\n",
        "        self.length = length\n",
        "        self.width = width\n",
        "\n",
        "    def area(self):\n",
        "        return self.length * self.width\n",
        "\n",
        "r = Rectangle()\n",
        "r.set_dimensions(5, 4)\n",
        "print(r.area())\n"
      ],
      "metadata": {
        "colab": {
          "base_uri": "https://localhost:8080/"
        },
        "id": "adGeX-CXHsIo",
        "outputId": "6e24972a-3e31-432b-f9af-eea2dc11ece1"
      },
      "execution_count": 19,
      "outputs": [
        {
          "output_type": "stream",
          "name": "stdout",
          "text": [
            "20\n"
          ]
        }
      ]
    },
    {
      "cell_type": "markdown",
      "source": [
        "15. Create a class Product with attributes name, price, and quantity. Implement a method total_price() that\n",
        "calculates the total price of the product."
      ],
      "metadata": {
        "id": "eimxLEFuHwAJ"
      }
    },
    {
      "cell_type": "code",
      "source": [
        "class Product:\n",
        "    def __init__(self, name, price, quantity):\n",
        "        self.name = name\n",
        "        self.price = price\n",
        "        self.quantity = quantity\n",
        "\n",
        "    def total_price(self):\n",
        "        return self.price * self.quantity\n",
        "\n",
        "p = Product(\"Laptop\", 50000, 2)\n",
        "print(p.total_price())  # Output: 100000\n"
      ],
      "metadata": {
        "colab": {
          "base_uri": "https://localhost:8080/"
        },
        "id": "tmYzYL6iH4I-",
        "outputId": "47fc8b25-bb2f-4f52-e2e2-039661514ff0"
      },
      "execution_count": 20,
      "outputs": [
        {
          "output_type": "stream",
          "name": "stdout",
          "text": [
            "100000\n"
          ]
        }
      ]
    },
    {
      "cell_type": "markdown",
      "source": [
        "16.Create a class Animal with an abstract method sound(). Create two derived classes Cow and Sheep that\n",
        "implement the sound() method."
      ],
      "metadata": {
        "id": "OQQ_wWEeIIAQ"
      }
    },
    {
      "cell_type": "code",
      "source": [
        "class Animal(ABC):\n",
        "    @abstractmethod\n",
        "    def sound(self):\n",
        "        pass\n",
        "\n",
        "class Cow(Animal):\n",
        "    def sound(self):\n",
        "        return \"Mooooooooo\"\n",
        "\n",
        "class Sheep(Animal):\n",
        "    def sound(self):\n",
        "        return \"Baaaaaaaaaaa\"\n",
        "\n",
        "c = Cow()\n",
        "s = Sheep()\n",
        "print(c.sound())\n",
        "print(s.sound())\n"
      ],
      "metadata": {
        "colab": {
          "base_uri": "https://localhost:8080/"
        },
        "id": "1lxg10mlIJnW",
        "outputId": "a8a73207-b329-49d0-c325-8502f5debdc5"
      },
      "execution_count": 24,
      "outputs": [
        {
          "output_type": "stream",
          "name": "stdout",
          "text": [
            "Mooooooooo\n",
            "Baaaaaaaaaaa\n"
          ]
        }
      ]
    },
    {
      "cell_type": "markdown",
      "source": [
        "18.Create a class House with attributes address and price. Create a derived class Mansion that adds an\n",
        "attribute number_of_rooms."
      ],
      "metadata": {
        "id": "JC3RU1DGIgzU"
      }
    },
    {
      "cell_type": "code",
      "source": [
        "class House:\n",
        "    def __init__(self, address, price):\n",
        "        self.address = address\n",
        "        self.price = price\n",
        "\n",
        "class Mansion(House):\n",
        "    def __init__(self, address, price, number_of_rooms):\n",
        "        super().__init__(address, price)\n",
        "        self.number_of_rooms = number_of_rooms\n",
        "\n",
        "m = Mansion(\"123 sector 29\", 5000000, 10)\n",
        "print(m.address, m.price, m.number_of_rooms)\n"
      ],
      "metadata": {
        "colab": {
          "base_uri": "https://localhost:8080/"
        },
        "id": "jN6uOGbqIit1",
        "outputId": "03a077ad-db2f-4f89-fbb5-56aaa50c2bd0"
      },
      "execution_count": 26,
      "outputs": [
        {
          "output_type": "stream",
          "name": "stdout",
          "text": [
            "123 sector 29 5000000 10\n"
          ]
        }
      ]
    }
  ]
}